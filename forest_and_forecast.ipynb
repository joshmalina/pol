{
 "cells": [
  {
   "cell_type": "code",
   "execution_count": 1,
   "metadata": {
    "collapsed": false
   },
   "outputs": [],
   "source": [
    "import numpy as np\n",
    "import pandas as pd\n",
    "from pandas import DataFrame, get_dummies, concat\n",
    "import requests\n",
    "from sklearn.ensemble import RandomForestRegressor\n",
    "from sklearn.cross_validation import train_test_split\n",
    "from sklearn.metrics import r2_score\n",
    "from ggplot import *\n",
    "%matplotlib inline "
   ]
  },
  {
   "cell_type": "code",
   "execution_count": 3,
   "metadata": {
    "collapsed": true
   },
   "outputs": [],
   "source": [
    "# predict on year, day of month optionally -- those are available but for some reason we aren't modeling on those - of course, predicting on previous values would also be nice but not sure how to integrate this into forecasting"
   ]
  },
  {
   "cell_type": "code",
   "execution_count": 3,
   "metadata": {
    "collapsed": false
   },
   "outputs": [],
   "source": [
    "class forecast(object):    \n",
    "    \n",
    "    def __init__(self, forestColumnNames, frst):\n",
    "        self.forestColumnNames = forestColumnNames\n",
    "        self.frst = frst\n",
    "        API_KEY = 'a3d4db71573f30f9'\n",
    "        url = 'http://api.wunderground.com/api/'+API_KEY+'/hourly10day/q/Beijing/Beijing.json'\n",
    "        content = requests.get(url).json()\n",
    "        self.raw = content['hourly_forecast']\n",
    "        self.df = self.prepForRF()\n",
    "        \n",
    "    def day_to_int(self, day_string):\n",
    "        dayvals = {\n",
    "            'Sunday': 0,\n",
    "            'Monday': 1,\n",
    "            'Tuesday': 2,\n",
    "            'Wednesday': 3,\n",
    "            'Thursday': 4, \n",
    "            'Friday': 5, \n",
    "            'Saturday': 6\n",
    "        }\n",
    "        return dayvals.get(day_string, 'nothing')\n",
    "        \n",
    "    def extractRow(self, one):   \n",
    "        date = one['FCTTIME']\n",
    "        return dict(year=date['year'], month=date['mon'], day=date['mday'], wday=self.day_to_int(date['weekday_name']), hour=date['hour'], pressurei=one['mslp']['english'], icon=one['icon'], dewpti=one['dewpoint']['english'], hum=one['humidity'], temp=one['temp']['metric'], wdird=one['wdir']['degrees'], wdire=one['wdir']['dir'], wspdm=one['wspd']['metric'])\n",
    "         \n",
    "    def extractRows(self):\n",
    "        return DataFrame([self.extractRow(x) for x in self.raw])\n",
    "    \n",
    "    # make into binary values categorical vars\n",
    "    def categorizeVars(self):\n",
    "        df = self.extractRows()\n",
    "        return pd.concat([df, get_dummies(df.wdire), get_dummies(df.icon)], axis=1)\n",
    "    \n",
    "    def prepForRF(self):\n",
    "        df = self.categorizeVars()\n",
    "        # rename certain vars, E to East, W to West, Month to mon, because of inconsistencies in the wunderground API\n",
    "        df = df.rename(columns={'E':'East', 'W':'West', 'N':'North', 'S':'South', 'month': 'mon', 'temp' : 'tempm'})\n",
    "        df.columns\n",
    "        # drop icon, wdire\n",
    "        # later rebuild the model with day and year\n",
    "        df = df.drop(['icon', 'wdire', 'wdird', 'day', 'year'], axis=1)\n",
    "        df = self.imputeVals(df)\n",
    "        df = self.addPredictions(df)\n",
    "        return df\n",
    "    \n",
    "    def imputeVals(self, df):\n",
    "        # any missing values in the test frame need to be imputed with all zeroes\n",
    "        cols_to_add = self.forestColumnNames - df.columns\n",
    "        for (idx, val) in enumerate(cols_to_add):\n",
    "            df[val] = np.zeros(df.shape[0])        \n",
    "        return df\n",
    "    \n",
    "    def addPredictions(self, df):\n",
    "        df['predictions'] = self.frst.predict(df)\n",
    "        return df\n",
    "    "
   ]
  },
  {
   "cell_type": "code",
   "execution_count": 92,
   "metadata": {
    "collapsed": true
   },
   "outputs": [],
   "source": [
    "class forest():\n",
    "    \n",
    "    def __init__(self):\n",
    "        data = pd.read_csv('data.csv')\n",
    "        self.X_train, self.X_test, self.y_train, self.y_test = self.prepData(data)\n",
    "        self.rf = self.buildForest(self.X_train, self.y_train)\n",
    "        #self.measures = plotMetrics()\n",
    "        \n",
    "    def prepData(self, df):\n",
    "        df = self.catVars(df)\n",
    "        df = self.removeUnusedVars(df)\n",
    "        self.df = df\n",
    "        return self.splitSet(df)\n",
    "        \n",
    "    def catVars(self, df):\n",
    "        wdire_cat = get_dummies(df.wdire)\n",
    "        icon_cat = get_dummies(df.icon)\n",
    "        return concat([df, wdire_cat, icon_cat], axis=1)\n",
    "    \n",
    "    def removeUnusedVars(self, df):\n",
    "        return df.drop(['X', 'conds', 'datetime', 'icon', 'visi', 'wdird', 'wdire', 'Unnamed: 0'], axis=1)\n",
    "    \n",
    "    def splitSet(self, df):\n",
    "        # create training (80%) and test (20%) sets\n",
    "        X_train, X_test, y_train, y_test = train_test_split(df[df.columns.difference(['Value'])], df.Value, test_size=0.2, random_state=42)\n",
    "        return X_train, X_test, y_train, y_test\n",
    "    \n",
    "    def buildForest(self, X_train, y_train):\n",
    "        rf = RandomForestRegressor(n_estimators=50, verbose=1)\n",
    "        rf.fit_transform(X_train, y_train)\n",
    "        return rf\n",
    "    \n",
    "    def metrics(self, y_test, X_test, rf):\n",
    "        self.r2 = r2_score(y_test, rf.predict(X_test))\n",
    "        self.mse = np.mean((y_test - rf.predict(X_test))**2)\n",
    "        self.rmse = np.sqrt(mse)\n",
    "    \n",
    "    def plotMetrics(self):\n",
    "        measures = DataFrame({\"feature_importances_\": self.rf.feature_importances_, \"names\" : X_train.columns})\n",
    "        ggplot(measures, aes(x='names', y='feature_importances_')) + geom_bar(stat='bar') + theme(axis_text_x = element_text(angle = 90, hjust = 1))\n",
    "        \n",
    "        "
   ]
  },
  {
   "cell_type": "code",
   "execution_count": 93,
   "metadata": {
    "collapsed": false
   },
   "outputs": [
    {
     "name": "stderr",
     "output_type": "stream",
     "text": [
      "[Parallel(n_jobs=1)]: Done   1 jobs       | elapsed:    0.4s\n",
      "[Parallel(n_jobs=1)]: Done  50 jobs       | elapsed:   26.0s\n",
      "[Parallel(n_jobs=1)]: Done  50 out of  50 | elapsed:   26.0s finished\n"
     ]
    }
   ],
   "source": [
    "frT = forest()"
   ]
  },
  {
   "cell_type": "code",
   "execution_count": 20,
   "metadata": {
    "collapsed": false
   },
   "outputs": [
    {
     "name": "stderr",
     "output_type": "stream",
     "text": [
      "//anaconda/lib/python2.7/site-packages/pandas/core/index.py:1353: FutureWarning: using '-' to provide set differences with Indexes is deprecated, use .difference()\n",
      "  \"use .difference()\",FutureWarning)\n",
      "[Parallel(n_jobs=1)]: Done   1 jobs       | elapsed:    0.0s\n",
      "[Parallel(n_jobs=1)]: Done  50 jobs       | elapsed:    0.0s\n",
      "[Parallel(n_jobs=1)]: Done 200 jobs       | elapsed:    0.0s\n",
      "[Parallel(n_jobs=1)]: Done 450 jobs       | elapsed:    0.1s\n",
      "[Parallel(n_jobs=1)]: Done 500 out of 500 | elapsed:    0.1s finished\n"
     ]
    }
   ],
   "source": [
    "frcast = forecast(fr.X_train.columns, fr.rf)"
   ]
  },
  {
   "cell_type": "code",
   "execution_count": 31,
   "metadata": {
    "collapsed": false
   },
   "outputs": [
    {
     "ename": "NameError",
     "evalue": "name 'measures' is not defined",
     "output_type": "error",
     "traceback": [
      "\u001b[0;31m---------------------------------------------------------------------------\u001b[0m",
      "\u001b[0;31mNameError\u001b[0m                                 Traceback (most recent call last)",
      "\u001b[0;32m<ipython-input-31-34a15254f20e>\u001b[0m in \u001b[0;36m<module>\u001b[0;34m()\u001b[0m\n\u001b[0;32m----> 1\u001b[0;31m \u001b[0mggplot\u001b[0m\u001b[0;34m(\u001b[0m\u001b[0mmeasures\u001b[0m\u001b[0;34m,\u001b[0m \u001b[0maes\u001b[0m\u001b[0;34m(\u001b[0m\u001b[0mx\u001b[0m\u001b[0;34m=\u001b[0m\u001b[0;34m'names'\u001b[0m\u001b[0;34m,\u001b[0m \u001b[0my\u001b[0m\u001b[0;34m=\u001b[0m\u001b[0;34m'feature_importances_'\u001b[0m\u001b[0;34m)\u001b[0m\u001b[0;34m)\u001b[0m \u001b[0;34m+\u001b[0m \u001b[0mgeom_bar\u001b[0m\u001b[0;34m(\u001b[0m\u001b[0mstat\u001b[0m\u001b[0;34m=\u001b[0m\u001b[0;34m'bar'\u001b[0m\u001b[0;34m)\u001b[0m \u001b[0;34m+\u001b[0m \u001b[0mtheme\u001b[0m\u001b[0;34m(\u001b[0m\u001b[0maxis_text_x\u001b[0m \u001b[0;34m=\u001b[0m \u001b[0melement_text\u001b[0m\u001b[0;34m(\u001b[0m\u001b[0mangle\u001b[0m \u001b[0;34m=\u001b[0m \u001b[0;36m90\u001b[0m\u001b[0;34m,\u001b[0m \u001b[0mhjust\u001b[0m \u001b[0;34m=\u001b[0m \u001b[0;36m1\u001b[0m\u001b[0;34m)\u001b[0m\u001b[0;34m)\u001b[0m\u001b[0;34m\u001b[0m\u001b[0m\n\u001b[0m",
      "\u001b[0;31mNameError\u001b[0m: name 'measures' is not defined"
     ]
    }
   ],
   "source": [
    "ggplot(measures, aes(x='names', y='feature_importances_')) + geom_bar(stat='bar') + theme(axis_text_x = element_text(angle = 90, hjust = 1))"
   ]
  },
  {
   "cell_type": "code",
   "execution_count": 95,
   "metadata": {
    "collapsed": true
   },
   "outputs": [],
   "source": [
    "import cPickle\n",
    "\n",
    "with open('rforestModel.cpickle', 'wb') as f:\n",
    "    cPickle.dump(frT.rf, f)"
   ]
  },
  {
   "cell_type": "code",
   "execution_count": 94,
   "metadata": {
    "collapsed": false
   },
   "outputs": [
    {
     "name": "stderr",
     "output_type": "stream",
     "text": [
      "[Parallel(n_jobs=1)]: Done   1 jobs       | elapsed:    0.0s\n",
      "[Parallel(n_jobs=1)]: Done  50 jobs       | elapsed:    0.2s\n",
      "[Parallel(n_jobs=1)]: Done  50 out of  50 | elapsed:    0.2s finished\n"
     ]
    },
    {
     "data": {
      "text/plain": [
       "0.71631081170597599"
      ]
     },
     "execution_count": 94,
     "metadata": {},
     "output_type": "execute_result"
    }
   ],
   "source": [
    "frT.rf.score(frT.X_test, frT.y_test)"
   ]
  },
  {
   "cell_type": "code",
   "execution_count": 55,
   "metadata": {
    "collapsed": false
   },
   "outputs": [],
   "source": [
    "measures = concat([DataFrame({\"name\":fr.X_test.columns}), DataFrame({\"importance\":fr.rf.feature_importances_})], axis=1)"
   ]
  },
  {
   "cell_type": "code",
   "execution_count": 60,
   "metadata": {
    "collapsed": false
   },
   "outputs": [
    {
     "data": {
      "text/html": [
       "<div>\n",
       "<table border=\"1\" class=\"dataframe\">\n",
       "  <thead>\n",
       "    <tr style=\"text-align: right;\">\n",
       "      <th></th>\n",
       "      <th>name</th>\n",
       "      <th>importance</th>\n",
       "    </tr>\n",
       "  </thead>\n",
       "  <tbody>\n",
       "    <tr>\n",
       "      <th>17</th>\n",
       "      <td>clear</td>\n",
       "      <td>0.317509</td>\n",
       "    </tr>\n",
       "    <tr>\n",
       "      <th>23</th>\n",
       "      <td>hum</td>\n",
       "      <td>0.082328</td>\n",
       "    </tr>\n",
       "    <tr>\n",
       "      <th>21</th>\n",
       "      <td>hazy</td>\n",
       "      <td>0.079311</td>\n",
       "    </tr>\n",
       "    <tr>\n",
       "      <th>27</th>\n",
       "      <td>pressurei</td>\n",
       "      <td>0.078157</td>\n",
       "    </tr>\n",
       "    <tr>\n",
       "      <th>19</th>\n",
       "      <td>dewpti</td>\n",
       "      <td>0.077845</td>\n",
       "    </tr>\n",
       "    <tr>\n",
       "      <th>22</th>\n",
       "      <td>hour</td>\n",
       "      <td>0.060354</td>\n",
       "    </tr>\n",
       "    <tr>\n",
       "      <th>35</th>\n",
       "      <td>wspdm</td>\n",
       "      <td>0.057870</td>\n",
       "    </tr>\n",
       "    <tr>\n",
       "      <th>31</th>\n",
       "      <td>tempm</td>\n",
       "      <td>0.053088</td>\n",
       "    </tr>\n",
       "    <tr>\n",
       "      <th>24</th>\n",
       "      <td>mon</td>\n",
       "      <td>0.051246</td>\n",
       "    </tr>\n",
       "    <tr>\n",
       "      <th>34</th>\n",
       "      <td>wday</td>\n",
       "      <td>0.048758</td>\n",
       "    </tr>\n",
       "    <tr>\n",
       "      <th>28</th>\n",
       "      <td>rain</td>\n",
       "      <td>0.008288</td>\n",
       "    </tr>\n",
       "    <tr>\n",
       "      <th>7</th>\n",
       "      <td>North</td>\n",
       "      <td>0.007230</td>\n",
       "    </tr>\n",
       "    <tr>\n",
       "      <th>8</th>\n",
       "      <td>SE</td>\n",
       "      <td>0.006867</td>\n",
       "    </tr>\n",
       "    <tr>\n",
       "      <th>1</th>\n",
       "      <td>ESE</td>\n",
       "      <td>0.006301</td>\n",
       "    </tr>\n",
       "    <tr>\n",
       "      <th>12</th>\n",
       "      <td>South</td>\n",
       "      <td>0.006278</td>\n",
       "    </tr>\n",
       "    <tr>\n",
       "      <th>9</th>\n",
       "      <td>SSE</td>\n",
       "      <td>0.005770</td>\n",
       "    </tr>\n",
       "    <tr>\n",
       "      <th>13</th>\n",
       "      <td>Variable</td>\n",
       "      <td>0.005276</td>\n",
       "    </tr>\n",
       "    <tr>\n",
       "      <th>2</th>\n",
       "      <td>East</td>\n",
       "      <td>0.005048</td>\n",
       "    </tr>\n",
       "    <tr>\n",
       "      <th>33</th>\n",
       "      <td>unknown</td>\n",
       "      <td>0.004417</td>\n",
       "    </tr>\n",
       "    <tr>\n",
       "      <th>4</th>\n",
       "      <td>NNE</td>\n",
       "      <td>0.004261</td>\n",
       "    </tr>\n",
       "    <tr>\n",
       "      <th>18</th>\n",
       "      <td>cloudy</td>\n",
       "      <td>0.004212</td>\n",
       "    </tr>\n",
       "    <tr>\n",
       "      <th>20</th>\n",
       "      <td>fog</td>\n",
       "      <td>0.004116</td>\n",
       "    </tr>\n",
       "    <tr>\n",
       "      <th>10</th>\n",
       "      <td>SSW</td>\n",
       "      <td>0.004108</td>\n",
       "    </tr>\n",
       "    <tr>\n",
       "      <th>5</th>\n",
       "      <td>NNW</td>\n",
       "      <td>0.003509</td>\n",
       "    </tr>\n",
       "    <tr>\n",
       "      <th>0</th>\n",
       "      <td>ENE</td>\n",
       "      <td>0.002955</td>\n",
       "    </tr>\n",
       "    <tr>\n",
       "      <th>3</th>\n",
       "      <td>NE</td>\n",
       "      <td>0.002274</td>\n",
       "    </tr>\n",
       "    <tr>\n",
       "      <th>26</th>\n",
       "      <td>partlycloudy</td>\n",
       "      <td>0.002070</td>\n",
       "    </tr>\n",
       "    <tr>\n",
       "      <th>32</th>\n",
       "      <td>tstorms</td>\n",
       "      <td>0.001839</td>\n",
       "    </tr>\n",
       "    <tr>\n",
       "      <th>6</th>\n",
       "      <td>NW</td>\n",
       "      <td>0.001781</td>\n",
       "    </tr>\n",
       "    <tr>\n",
       "      <th>11</th>\n",
       "      <td>SW</td>\n",
       "      <td>0.001644</td>\n",
       "    </tr>\n",
       "    <tr>\n",
       "      <th>14</th>\n",
       "      <td>WNW</td>\n",
       "      <td>0.001457</td>\n",
       "    </tr>\n",
       "    <tr>\n",
       "      <th>25</th>\n",
       "      <td>mostlycloudy</td>\n",
       "      <td>0.001221</td>\n",
       "    </tr>\n",
       "    <tr>\n",
       "      <th>16</th>\n",
       "      <td>West</td>\n",
       "      <td>0.001182</td>\n",
       "    </tr>\n",
       "    <tr>\n",
       "      <th>30</th>\n",
       "      <td>snow</td>\n",
       "      <td>0.000811</td>\n",
       "    </tr>\n",
       "    <tr>\n",
       "      <th>15</th>\n",
       "      <td>WSW</td>\n",
       "      <td>0.000610</td>\n",
       "    </tr>\n",
       "    <tr>\n",
       "      <th>29</th>\n",
       "      <td>sleet</td>\n",
       "      <td>0.000008</td>\n",
       "    </tr>\n",
       "  </tbody>\n",
       "</table>\n",
       "</div>"
      ],
      "text/plain": [
       "            name  importance\n",
       "17         clear    0.317509\n",
       "23           hum    0.082328\n",
       "21          hazy    0.079311\n",
       "27     pressurei    0.078157\n",
       "19        dewpti    0.077845\n",
       "22          hour    0.060354\n",
       "35         wspdm    0.057870\n",
       "31         tempm    0.053088\n",
       "24           mon    0.051246\n",
       "34          wday    0.048758\n",
       "28          rain    0.008288\n",
       "7          North    0.007230\n",
       "8             SE    0.006867\n",
       "1            ESE    0.006301\n",
       "12         South    0.006278\n",
       "9            SSE    0.005770\n",
       "13      Variable    0.005276\n",
       "2           East    0.005048\n",
       "33       unknown    0.004417\n",
       "4            NNE    0.004261\n",
       "18        cloudy    0.004212\n",
       "20           fog    0.004116\n",
       "10           SSW    0.004108\n",
       "5            NNW    0.003509\n",
       "0            ENE    0.002955\n",
       "3             NE    0.002274\n",
       "26  partlycloudy    0.002070\n",
       "32       tstorms    0.001839\n",
       "6             NW    0.001781\n",
       "11            SW    0.001644\n",
       "14           WNW    0.001457\n",
       "25  mostlycloudy    0.001221\n",
       "16          West    0.001182\n",
       "30          snow    0.000811\n",
       "15           WSW    0.000610\n",
       "29         sleet    0.000008"
      ]
     },
     "execution_count": 60,
     "metadata": {},
     "output_type": "execute_result"
    }
   ],
   "source": [
    "measures.sort(\"importance\", ascending=False)"
   ]
  },
  {
   "cell_type": "code",
   "execution_count": 68,
   "metadata": {
    "collapsed": false
   },
   "outputs": [
    {
     "name": "stderr",
     "output_type": "stream",
     "text": [
      "[Parallel(n_jobs=1)]: Done   1 jobs       | elapsed:    0.0s\n",
      "[Parallel(n_jobs=1)]: Done  50 jobs       | elapsed:    0.3s\n",
      "[Parallel(n_jobs=1)]: Done 200 jobs       | elapsed:    1.1s\n",
      "[Parallel(n_jobs=1)]: Done 450 jobs       | elapsed:    2.4s\n",
      "[Parallel(n_jobs=1)]: Done 500 out of 500 | elapsed:    2.6s finished\n"
     ]
    },
    {
     "data": {
      "text/plain": [
       "0.72274540476990845"
      ]
     },
     "execution_count": 68,
     "metadata": {},
     "output_type": "execute_result"
    }
   ],
   "source": [
    "frT.rf.score(frT.X_test, frT.y_test)"
   ]
  },
  {
   "cell_type": "code",
   "execution_count": 76,
   "metadata": {
    "collapsed": false
   },
   "outputs": [
    {
     "data": {
      "text/plain": [
       "0.027777777777777773"
      ]
     },
     "execution_count": 76,
     "metadata": {},
     "output_type": "execute_result"
    }
   ],
   "source": [
    "np.mean(fr.rf.feature_importances_)"
   ]
  },
  {
   "cell_type": "code",
   "execution_count": 78,
   "metadata": {
    "collapsed": false
   },
   "outputs": [
    {
     "data": {
      "text/plain": [
       "array([  2.94917129e-03,   6.28787879e-03,   5.06512666e-03,\n",
       "         2.29022786e-03,   4.30306659e-03,   3.57140091e-03,\n",
       "         1.80284268e-03,   7.27357838e-03,   6.82429414e-03,\n",
       "         5.83397796e-03,   3.98994528e-03,   1.61447589e-03,\n",
       "         6.11637599e-03,   5.29339914e-03,   1.46440063e-03,\n",
       "         5.96633894e-04,   1.19962871e-03,   3.17849175e-01,\n",
       "         4.18897450e-03,   7.81169674e-02,   4.14882214e-03,\n",
       "         7.89791295e-02,   6.04215625e-02,   8.12641938e-02,\n",
       "         5.12873060e-02,   1.18620679e-03,   2.05567424e-03,\n",
       "         7.80871288e-02,   8.24824708e-03,   8.89212949e-06,\n",
       "         8.19644046e-04,   5.30013065e-02,   1.89028393e-03,\n",
       "         4.40651675e-03,   4.86040254e-02,   5.89595185e-02])"
      ]
     },
     "execution_count": 78,
     "metadata": {},
     "output_type": "execute_result"
    }
   ],
   "source": [
    "frT.rf.feature_importances_"
   ]
  },
  {
   "cell_type": "code",
   "execution_count": 81,
   "metadata": {
    "collapsed": false
   },
   "outputs": [
    {
     "data": {
      "text/plain": [
       "(44999, 10)"
      ]
     },
     "execution_count": 81,
     "metadata": {},
     "output_type": "execute_result"
    }
   ],
   "source": [
    "fr.rf.transform(fr.X_train).shape"
   ]
  },
  {
   "cell_type": "code",
   "execution_count": 82,
   "metadata": {
    "collapsed": false
   },
   "outputs": [
    {
     "data": {
      "text/plain": [
       "(44999, 36)"
      ]
     },
     "execution_count": 82,
     "metadata": {},
     "output_type": "execute_result"
    }
   ],
   "source": [
    "fr.X_train.shape"
   ]
  },
  {
   "cell_type": "code",
   "execution_count": null,
   "metadata": {
    "collapsed": true
   },
   "outputs": [],
   "source": []
  }
 ],
 "metadata": {
  "kernelspec": {
   "display_name": "Python 2",
   "language": "python",
   "name": "python2"
  },
  "language_info": {
   "codemirror_mode": {
    "name": "ipython",
    "version": 2
   },
   "file_extension": ".py",
   "mimetype": "text/x-python",
   "name": "python",
   "nbconvert_exporter": "python",
   "pygments_lexer": "ipython2",
   "version": "2.7.10"
  }
 },
 "nbformat": 4,
 "nbformat_minor": 0
}
