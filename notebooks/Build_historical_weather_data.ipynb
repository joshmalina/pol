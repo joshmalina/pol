{
 "cells": [
  {
   "cell_type": "code",
   "execution_count": null,
   "metadata": {
    "collapsed": true
   },
   "outputs": [],
   "source": [
    "# This file is capable of building an entire year's worth of half-hourly historical weather data for a given city;\n",
    "# It is set up for beijing; null values have been cleaned, and times are in local time unless otherwise specified"
   ]
  },
  {
   "cell_type": "code",
   "execution_count": 616,
   "metadata": {
    "collapsed": true
   },
   "outputs": [],
   "source": [
    "import urllib2\n",
    "import json\n",
    "import pandas as pd\n",
    "import datetime\n",
    "import pytz\n",
    "import numpy as np\n",
    "from datetime import date, timedelta as td\n",
    "import ast"
   ]
  },
  {
   "cell_type": "code",
   "execution_count": null,
   "metadata": {
    "collapsed": true
   },
   "outputs": [],
   "source": [
    "# magic constants\n",
    "YEAR = 0\n",
    "MONTH = 1\n",
    "DAY = 2\n",
    "API_KEY = ''"
   ]
  },
  {
   "cell_type": "code",
   "execution_count": 720,
   "metadata": {
    "collapsed": true
   },
   "outputs": [],
   "source": [
    "# call the wunderground api for some hourly weather data at a certain point in time\n",
    "# @param year=string, month=string, day=string\n",
    "# @return weather data for a day in beijing\n",
    "def get_one_day(year, month, day):     \n",
    "    url = 'http://api.wunderground.com/api/' + API_KEY + '/history_' + year + month + day +'/geolookup/q/Beijing/Beijing.json'\n",
    "    f = urllib2.urlopen(url)\n",
    "    json_string = f.read()\n",
    "    parsed_json = json.loads(json_string)\n",
    "    return parsed_json['history']['observations']"
   ]
  },
  {
   "cell_type": "code",
   "execution_count": null,
   "metadata": {
    "collapsed": true
   },
   "outputs": [],
   "source": [
    "# by their own admission, the API at wunderground is a bit wonky\n",
    "# in some cases, duplicate historical records are returned for the same moment in time\n",
    "# we can spot these duplicates via regex\n",
    "filter_out = df.metar.apply(lambda x: not x.startswith('AAXX'))\n",
    "df = df[filter_out]"
   ]
  },
  {
   "cell_type": "code",
   "execution_count": 596,
   "metadata": {
    "collapsed": false
   },
   "outputs": [],
   "source": [
    "# wunderground uses variations on -9999 to indicate NA values\n",
    "# replace all -999 with NaN values\n",
    "df = df.applymap(lambda x: np.nan if x == '-9999' or x == '-9999.0' or x == '-999' else x)"
   ]
  },
  {
   "cell_type": "code",
   "execution_count": 602,
   "metadata": {
    "collapsed": false
   },
   "outputs": [],
   "source": [
    "# a quick analysis of the data indicates that a value of '0' for wind direction is also a NaN value\n",
    "df.wdird = df.wdird.apply(lambda x: np.nan if x == '0' else x)"
   ]
  },
  {
   "cell_type": "code",
   "execution_count": 730,
   "metadata": {
    "collapsed": true
   },
   "outputs": [],
   "source": [
    "# get a list of three-tuples (year, month, day)\n",
    "# @param start-year, month, day; end-year, month, day = ints\n",
    "# @ return [(year = string, month = string, day = string), ...] e.g. ('2010', '01', '09')\n",
    "def gdates(start_year_int, start_month_int, start_day_int, end_year_int, end_month_int, end_day_int):\n",
    "    d1 = date(start_year_int, start_month_int, start_day_int)\n",
    "    d2 = date(end_year_int, end_month_int, end_day_int)\n",
    "    delta = d2 - d1\n",
    "    date_list = []\n",
    "    for i in range(delta.days + 1):\n",
    "        val = d1 + td(days=i)\n",
    "        # convert to string\n",
    "        v = val.isoformat()\n",
    "        # pick off year, month, day by indexing into string\n",
    "        year = v[0:4]\n",
    "        month = v[5:7]\n",
    "        day = v[8:11]\n",
    "        date_list.append((year, month, day))\n",
    "    return l    "
   ]
  },
  {
   "cell_type": "code",
   "execution_count": 566,
   "metadata": {
    "collapsed": true
   },
   "outputs": [],
   "source": [
    "# function make_date\n",
    "# add a column of datetime values\n",
    "# @param df = pandas.DataFrame\n",
    "# @return null *** modifies the dataframe in place\n",
    "def make_date(df):\n",
    "    df.temp_date = df.date.apply(lambda obj: ast.literal_eval(obj))\n",
    "    df['local_datetime'] = df.temp_date.apply(lambda obj: datetime.datetime(int(obj['year']), int(obj['mon']), int(obj['mday']), hour=int(obj['hour']), minute=int(obj['min'])))"
   ]
  },
  {
   "cell_type": "code",
   "execution_count": 652,
   "metadata": {
    "collapsed": true
   },
   "outputs": [],
   "source": [
    "# function one_single_day\n",
    "# get a fully cleaned day of meteorological values\n",
    "# @param year=string, month=string, day=string\n",
    "# @return m = 48 rows, various features, one row each half hour\n",
    "def one_single_day(year, month, day):\n",
    "    # get day\n",
    "    dframe = pd.DataFrame(get_one_day(year, month, day))\n",
    "    # add time field\n",
    "    dframe['datetime'] = dframe.date.apply(lambda obj: datetime.datetime(int(obj['year']), int(obj['mon']), int(obj['mday']), hour=int(obj['hour']), minute=int(obj['min'])))\n",
    "    # replace some nulls globally\n",
    "    dframe = replace_nulls(dframe)\n",
    "    # replace other nulls in wind direction\n",
    "    dframe.wdird = df.wdird.apply(lambda x: np.nan if x == '0' else x)\n",
    "    # get rid of bad api calls\n",
    "    rv = dframe.metar.apply(lambda x: not x.startswith('AAXX'))\n",
    "    dframe = dframe[rv]\n",
    "    # reset index -- necessary when removing whole rows of values\n",
    "    dframe.reset_index(inplace=True, drop=True)\n",
    "    return dframe"
   ]
  },
  {
   "cell_type": "code",
   "execution_count": 653,
   "metadata": {
    "collapsed": false
   },
   "outputs": [],
   "source": [
    "# example day\n",
    "# day2 = one_single_day(2013, 1, 2)"
   ]
  },
  {
   "cell_type": "code",
   "execution_count": 655,
   "metadata": {
    "collapsed": false
   },
   "outputs": [],
   "source": [
    "# write df to cv\n",
    "# day2.to_csv('day2.csv')"
   ]
  },
  {
   "cell_type": "code",
   "execution_count": 727,
   "metadata": {
    "collapsed": false
   },
   "outputs": [],
   "source": [
    "# example two_days\n",
    "# two_days = pd.concat([one_single_day('2013', '01', '01'), one_single_day('2013', '01', '02')], ignore_index=True)"
   ]
  },
  {
   "cell_type": "code",
   "execution_count": 4,
   "metadata": {
    "collapsed": false
   },
   "outputs": [],
   "source": [
    "# example: build an entire year 2014 - 2015 (includes jan 1st, 2015)\n",
    "\n",
    "# initialize empty df\n",
    "empty = pd.DataFrame()\n",
    "\n",
    "# an i for every day of the year\n",
    "for date_ in gdates('2014', '01', '01', '2015', '01', '01'):\n",
    "    # day holder\n",
    "    tempday = one_single_day(date_[YEAR], date_[MONTH], date_[DAY])\n",
    "    # concatenate new day, ignore new day's index\n",
    "    empty = pd.concat([empty, tempday], ignore_index=True)\n",
    "    # just so we know what's going on\n",
    "    print date_\n",
    "    # for the free wunderground API plan, you are only permitted 10 calls / min\n",
    "    # 60 / 7 = ~8 calls per minute\n",
    "    time.sleep(7)"
   ]
  },
  {
   "cell_type": "code",
   "execution_count": null,
   "metadata": {
    "collapsed": true
   },
   "outputs": [],
   "source": []
  }
 ],
 "metadata": {
  "kernelspec": {
   "display_name": "Python 2",
   "language": "python",
   "name": "python2"
  },
  "language_info": {
   "codemirror_mode": {
    "name": "ipython",
    "version": 2
   },
   "file_extension": ".py",
   "mimetype": "text/x-python",
   "name": "python",
   "nbconvert_exporter": "python",
   "pygments_lexer": "ipython2",
   "version": "2.7.10"
  }
 },
 "nbformat": 4,
 "nbformat_minor": 0
}
